{
 "cells": [
  {
   "cell_type": "markdown",
   "id": "5b66f8b5",
   "metadata": {},
   "source": [
    "### List Comprehension:\n",
    "* Easy: Create a list comprehension that generates a list of squares of numbers from 1 to 10.\n",
    "    * Output: [1, 4, 9, 16, 25, 36, 49, 64, 81, 100]\n"
   ]
  },
  {
   "cell_type": "code",
   "execution_count": 4,
   "id": "71844661",
   "metadata": {},
   "outputs": [
    {
     "data": {
      "text/plain": [
       "[1, 4, 9, 16, 25, 36, 49, 64, 81, 100]"
      ]
     },
     "execution_count": 4,
     "metadata": {},
     "output_type": "execute_result"
    }
   ],
   "source": [
    "r = [i**2 for i in range(1,11)]\n",
    "r"
   ]
  },
  {
   "cell_type": "markdown",
   "id": "8b379759",
   "metadata": {},
   "source": [
    "### 2 Medium: Given a list of words, create a list comprehension to filter out words that are longer than 5 characters.\n",
    "* Input: ['apple', 'banana', 'cherry', 'date', 'elderberry'] Output: ['apple', 'cherry', 'date']"
   ]
  },
  {
   "cell_type": "code",
   "execution_count": 12,
   "id": "dd19e102",
   "metadata": {},
   "outputs": [
    {
     "data": {
      "text/plain": [
       "['apple', 'date']"
      ]
     },
     "execution_count": 12,
     "metadata": {},
     "output_type": "execute_result"
    }
   ],
   "source": [
    "r = ['apple', 'banana', 'cherry', 'date', 'elderberry']\n",
    "d = [i for i in r if len(i) <= 5]\n",
    "d"
   ]
  },
  {
   "cell_type": "markdown",
   "id": "3a6da5c7",
   "metadata": {},
   "source": [
    "### Lists:\n",
    "* Easy: 3 Create a list containing the numbers 1 to 5 and then append the number 6 to it. Output: [1, 2, 3, 4, 5, 6]"
   ]
  },
  {
   "cell_type": "code",
   "execution_count": 17,
   "id": "60eee30d",
   "metadata": {},
   "outputs": [
    {
     "data": {
      "text/plain": [
       "[1, 2, 3, 4, 5, 6]"
      ]
     },
     "execution_count": 17,
     "metadata": {},
     "output_type": "execute_result"
    }
   ],
   "source": [
    "r = [i for i in range(1,6)]\n",
    "r.append(6)\n",
    "r"
   ]
  },
  {
   "cell_type": "markdown",
   "id": "82281119",
   "metadata": {},
   "source": [
    "### 4 Medium: Given two lists, merge them into a single list without duplicates.\n",
    "* Input: List 1: [1, 2, 3, 4] List 2: [3, 4, 5, 6] Output: [1, 2, 3, 4, 5, 6]"
   ]
  },
  {
   "cell_type": "code",
   "execution_count": 25,
   "id": "6b505698",
   "metadata": {},
   "outputs": [
    {
     "name": "stdout",
     "output_type": "stream",
     "text": [
      "[1, 2, 3, 4, 5, 6]\n"
     ]
    }
   ],
   "source": [
    "r = [1,2,3,4]\n",
    "d = [3,4,5,6]\n",
    "merged_set = set(r+d)\n",
    "c = list(merged_set)\n",
    "print(c)\n"
   ]
  },
  {
   "cell_type": "markdown",
   "id": "eb4757c7",
   "metadata": {},
   "source": [
    "### Map:\n",
    "* Easy: 5 Use the map function to double each element in a list. Input: [1, 2, 3, 4, 5] Output: [2, 4, 6, 8, 10]"
   ]
  },
  {
   "cell_type": "code",
   "execution_count": 28,
   "id": "5245f6fb",
   "metadata": {},
   "outputs": [
    {
     "name": "stdout",
     "output_type": "stream",
     "text": [
      "[2, 4, 6, 8, 10]\n"
     ]
    }
   ],
   "source": [
    "r = [1, 2, 3, 4, 5]\n",
    "c = list(map(lambda x: x * 2, r))\n",
    "print(c)"
   ]
  },
  {
   "cell_type": "markdown",
   "id": "da6cf06b",
   "metadata": {},
   "source": [
    "### Medium: 6 Use the map function to convert a list of strings to uppercase.\n",
    "* Input: ['apple', 'banana', 'cherry']\n",
    "\n",
    "* Output: ['APPLE', 'BANANA', 'CHERRY']"
   ]
  },
  {
   "cell_type": "code",
   "execution_count": 34,
   "id": "2f29bb65",
   "metadata": {},
   "outputs": [
    {
     "data": {
      "text/plain": [
       "['APPLE', 'BANANA', 'CHERRY']"
      ]
     },
     "execution_count": 34,
     "metadata": {},
     "output_type": "execute_result"
    }
   ],
   "source": [
    "r = ['apple','banana','cherry']\n",
    "d = lambda a:a.upper()\n",
    "c = list(map(d,r))\n",
    "c"
   ]
  },
  {
   "cell_type": "markdown",
   "id": "e7be2a70",
   "metadata": {},
   "source": [
    "### Easy:7 Use the filter function to get all even numbers from a list.\n",
    "* Input: [1, 2, 3, 4, 5, 6]\n",
    "\n",
    "* Output: [2, 4, 6]"
   ]
  },
  {
   "cell_type": "code",
   "execution_count": 39,
   "id": "68abdcb1",
   "metadata": {},
   "outputs": [
    {
     "data": {
      "text/plain": [
       "[2, 4, 6]"
      ]
     },
     "execution_count": 39,
     "metadata": {},
     "output_type": "execute_result"
    }
   ],
   "source": [
    "r = [1, 2, 3, 4, 5, 6]\n",
    "d = list(filter(lambda x: x % 2 == 0, r))\n",
    "d"
   ]
  },
  {
   "cell_type": "markdown",
   "id": "b4b7a642",
   "metadata": {},
   "source": [
    "### Medium: 8 Use the filter function to get all words from a list that start with the letter 'b'.\n",
    "* Input: ['apple', 'banana', 'cherry', 'blueberry', 'date'] Output: ['banana', 'blueberry']"
   ]
  },
  {
   "cell_type": "code",
   "execution_count": 42,
   "id": "4aa9f856",
   "metadata": {},
   "outputs": [
    {
     "name": "stdout",
     "output_type": "stream",
     "text": [
      "['banana', 'blueberry']\n"
     ]
    }
   ],
   "source": [
    "r = ['apple', 'banana', 'cherry', 'blueberry', 'date']\n",
    "c = list(filter(lambda word: word.startswith('b'), r))\n",
    "print(c)\n",
    "# imp point:The startswith() method returns True if the string starts with the specified value, otherwise False."
   ]
  },
  {
   "cell_type": "markdown",
   "id": "c4fc52a7",
   "metadata": {},
   "source": [
    "### Easy:9 Write a function called add that takes two numbers as input and returns their sum.\n",
    "* Input: add(3, 4)\n",
    "\n",
    "* Output: 7"
   ]
  },
  {
   "cell_type": "code",
   "execution_count": 45,
   "id": "e34c5b41",
   "metadata": {},
   "outputs": [
    {
     "name": "stdout",
     "output_type": "stream",
     "text": [
      "7\n"
     ]
    }
   ],
   "source": [
    "def add(a,b):\n",
    "    print(a+b)\n",
    "add(3,4)"
   ]
  },
  {
   "cell_type": "markdown",
   "id": "5369bb34",
   "metadata": {},
   "source": [
    "### Medium: Write a function called calculate_average that takes a list of numbers as input and returns the average (mean) of those numbers.\n",
    "* Input: calculate_average([1, 2, 3, 4, 5])\n",
    "\n",
    "* Output: 3.0"
   ]
  },
  {
   "cell_type": "code",
   "execution_count": 49,
   "id": "2f5c0b51",
   "metadata": {},
   "outputs": [
    {
     "name": "stdout",
     "output_type": "stream",
     "text": [
      "7.6\n"
     ]
    }
   ],
   "source": [
    "def average(x):\n",
    "    print(sum(x)/len(x))\n",
    "average([10,11,3,6,8])"
   ]
  },
  {
   "cell_type": "code",
   "execution_count": null,
   "id": "92e3b73a",
   "metadata": {},
   "outputs": [],
   "source": []
  }
 ],
 "metadata": {
  "kernelspec": {
   "display_name": "Python 3 (ipykernel)",
   "language": "python",
   "name": "python3"
  },
  "language_info": {
   "codemirror_mode": {
    "name": "ipython",
    "version": 3
   },
   "file_extension": ".py",
   "mimetype": "text/x-python",
   "name": "python",
   "nbconvert_exporter": "python",
   "pygments_lexer": "ipython3",
   "version": "3.11.2"
  }
 },
 "nbformat": 4,
 "nbformat_minor": 5
}
